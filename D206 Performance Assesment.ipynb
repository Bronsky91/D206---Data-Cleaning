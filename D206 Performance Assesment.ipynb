{
 "cells": [
  {
   "cell_type": "markdown",
   "metadata": {},
   "source": [
    "# Part 1: Research Question\n",
    "\n",
    "## A: What variables are most important regarding if a customer will churn or not?\n",
    "\n",
    "## B: Variables in the Data Set:\n"
   ]
  },
  {
   "cell_type": "code",
   "execution_count": 1,
   "metadata": {},
   "outputs": [
    {
     "name": "stdout",
     "output_type": "stream",
     "text": [
      "<class 'pandas.core.frame.DataFrame'>\n",
      "Int64Index: 10000 entries, 1 to 10000\n",
      "Data columns (total 51 columns):\n",
      " #   Column                Non-Null Count  Dtype  \n",
      "---  ------                --------------  -----  \n",
      " 0   CaseOrder             10000 non-null  int64  \n",
      " 1   Customer_id           10000 non-null  object \n",
      " 2   Interaction           10000 non-null  object \n",
      " 3   City                  10000 non-null  object \n",
      " 4   State                 10000 non-null  object \n",
      " 5   County                10000 non-null  object \n",
      " 6   Zip                   10000 non-null  int64  \n",
      " 7   Lat                   10000 non-null  float64\n",
      " 8   Lng                   10000 non-null  float64\n",
      " 9   Population            10000 non-null  int64  \n",
      " 10  Area                  10000 non-null  object \n",
      " 11  Timezone              10000 non-null  object \n",
      " 12  Job                   10000 non-null  object \n",
      " 13  Children              7505 non-null   float64\n",
      " 14  Age                   7525 non-null   float64\n",
      " 15  Education             10000 non-null  object \n",
      " 16  Employment            10000 non-null  object \n",
      " 17  Income                7510 non-null   float64\n",
      " 18  Marital               10000 non-null  object \n",
      " 19  Gender                10000 non-null  object \n",
      " 20  Churn                 10000 non-null  object \n",
      " 21  Outage_sec_perweek    10000 non-null  float64\n",
      " 22  Email                 10000 non-null  int64  \n",
      " 23  Contacts              10000 non-null  int64  \n",
      " 24  Yearly_equip_failure  10000 non-null  int64  \n",
      " 25  Techie                7523 non-null   object \n",
      " 26  Contract              10000 non-null  object \n",
      " 27  Port_modem            10000 non-null  object \n",
      " 28  Tablet                10000 non-null  object \n",
      " 29  InternetService       10000 non-null  object \n",
      " 30  Phone                 8974 non-null   object \n",
      " 31  Multiple              10000 non-null  object \n",
      " 32  OnlineSecurity        10000 non-null  object \n",
      " 33  OnlineBackup          10000 non-null  object \n",
      " 34  DeviceProtection      10000 non-null  object \n",
      " 35  TechSupport           9009 non-null   object \n",
      " 36  StreamingTV           10000 non-null  object \n",
      " 37  StreamingMovies       10000 non-null  object \n",
      " 38  PaperlessBilling      10000 non-null  object \n",
      " 39  PaymentMethod         10000 non-null  object \n",
      " 40  Tenure                9069 non-null   float64\n",
      " 41  MonthlyCharge         10000 non-null  float64\n",
      " 42  Bandwidth_GB_Year     8979 non-null   float64\n",
      " 43  item1                 10000 non-null  int64  \n",
      " 44  item2                 10000 non-null  int64  \n",
      " 45  item3                 10000 non-null  int64  \n",
      " 46  item4                 10000 non-null  int64  \n",
      " 47  item5                 10000 non-null  int64  \n",
      " 48  item6                 10000 non-null  int64  \n",
      " 49  item7                 10000 non-null  int64  \n",
      " 50  item8                 10000 non-null  int64  \n",
      "dtypes: float64(9), int64(14), object(28)\n",
      "memory usage: 4.0+ MB\n",
      "None\n"
     ]
    }
   ],
   "source": [
    "import pandas as pd\n",
    "import matplotlib.pyplot as plt\n",
    "%matplotlib inline\n",
    "import numpy as np\n",
    "from scipy import stats\n",
    "\n",
    "# Raw Data to DataFrame\n",
    "df = pd.read_csv('churn_raw_data.csv', encoding='utf-8', index_col=0)\n",
    "\n",
    "# Show Variables, Non-Null Count, and Data Type\n",
    "print(df.info())"
   ]
  },
  {
   "cell_type": "markdown",
   "metadata": {},
   "source": [
    "- **int64**\n",
    ": Integer numbers\n",
    "- **float64**\n",
    ": Floating point numbers\n",
    "- **object**\n",
    ": Text or mixed numeric and non-numberic values\n",
    "\n",
    "[Link to Pandas datatype reference](https://pbpython.com/pandas_dtypes.html)"
   ]
  },
  {
   "cell_type": "markdown",
   "metadata": {},
   "source": [
    "### Variables with Context\n",
    "**CaseOrder**: Integer index that preserves the original order of each row in the data\\\n",
    "**Customer_id**: Text string that identifies a unqiue customer\\\n",
    "**Interaction**: Text string UUID (universally unique identifier) identifying the interaction with the customer\\\n",
    "**City**: Text string of the city on the customer's billing statement\\\n",
    "**State**: Text string of the two letter abbrivation of state on the customer's billing statement\\\n",
    "**County**: Text string of the county name on the customer's billing statement\\\n",
    "**Zip**: Integer number of the zip code on the customer's billing statement\\\n",
    "**Lat**: Floating point numerical value of the customer's Latitude\\\n",
    "**Lng**: Floating point numerical value of the customer's Longitude\\\n",
    "**Population**: Integer number of the population within a mile radius\\\n",
    "**Area**: Text string of the Area category based on census data\\"
   ]
  },
  {
   "cell_type": "code",
   "execution_count": 2,
   "metadata": {},
   "outputs": [
    {
     "name": "stdout",
     "output_type": "stream",
     "text": [
      "['Urban' 'Suburban' 'Rural']\n"
     ]
    }
   ],
   "source": [
    "print(df['Area'].unique())"
   ]
  },
  {
   "cell_type": "markdown",
   "metadata": {},
   "source": [
    "**Timezone**: Text string of the Timezone category the customer's located in"
   ]
  },
  {
   "cell_type": "code",
   "execution_count": 3,
   "metadata": {},
   "outputs": [
    {
     "name": "stdout",
     "output_type": "stream",
     "text": [
      "['America/Sitka' 'America/Detroit' 'America/Los_Angeles' 'America/Chicago'\n",
      " 'America/New_York' 'America/Puerto_Rico' 'America/Denver'\n",
      " 'America/Menominee' 'America/Phoenix' 'America/Indiana/Indianapolis'\n",
      " 'America/Boise' 'America/Kentucky/Louisville' 'Pacific/Honolulu'\n",
      " 'America/Indiana/Petersburg' 'America/Nome' 'America/Anchorage'\n",
      " 'America/Indiana/Knox' 'America/Juneau' 'America/Toronto'\n",
      " 'America/Indiana/Winamac' 'America/Indiana/Vincennes'\n",
      " 'America/North_Dakota/New_Salem' 'America/Indiana/Tell_City'\n",
      " 'America/Indiana/Marengo' 'America/Ojinaga']\n"
     ]
    }
   ],
   "source": [
    "print(df['Timezone'].unique())"
   ]
  },
  {
   "cell_type": "markdown",
   "metadata": {},
   "source": [
    "**Job**: Text string of the customer's job title\\\n",
    "**Children**: Integer number of the amount of children as reported in sign-up info\\\n",
    "**Age**: Integar number of the customer's age\\\n",
    "**Education**: Text string of the Education level the customer has completed\\"
   ]
  },
  {
   "cell_type": "code",
   "execution_count": 4,
   "metadata": {},
   "outputs": [
    {
     "name": "stdout",
     "output_type": "stream",
     "text": [
      "[\"Master's Degree\" 'Regular High School Diploma' 'Doctorate Degree'\n",
      " 'No Schooling Completed' \"Associate's Degree\" \"Bachelor's Degree\"\n",
      " 'Some College, Less than 1 Year' 'GED or Alternative Credential'\n",
      " 'Some College, 1 or More Years, No Degree'\n",
      " '9th Grade to 12th Grade, No Diploma' 'Nursery School to 8th Grade'\n",
      " 'Professional School Degree']\n"
     ]
    }
   ],
   "source": [
    "print(df['Education'].unique())"
   ]
  },
  {
   "cell_type": "markdown",
   "metadata": {},
   "source": [
    "**Employment**: Text string of the customer's employment status"
   ]
  },
  {
   "cell_type": "code",
   "execution_count": 5,
   "metadata": {},
   "outputs": [
    {
     "name": "stdout",
     "output_type": "stream",
     "text": [
      "['Part Time' 'Retired' 'Student' 'Full Time' 'Unemployed']\n"
     ]
    }
   ],
   "source": [
    "print(df['Employment'].unique())"
   ]
  },
  {
   "cell_type": "markdown",
   "metadata": {},
   "source": [
    "**Income**: Floating point numerical value of the customer's annual income\\\n",
    "**Marital**: Text string of the marital status of the customer\\"
   ]
  },
  {
   "cell_type": "code",
   "execution_count": 6,
   "metadata": {},
   "outputs": [
    {
     "name": "stdout",
     "output_type": "stream",
     "text": [
      "['Widowed' 'Married' 'Separated' 'Never Married' 'Divorced']\n"
     ]
    }
   ],
   "source": [
    "print(df['Marital'].unique())"
   ]
  },
  {
   "cell_type": "markdown",
   "metadata": {},
   "source": [
    "**Gender**: Text string of the customer's gender"
   ]
  },
  {
   "cell_type": "code",
   "execution_count": 7,
   "metadata": {},
   "outputs": [
    {
     "name": "stdout",
     "output_type": "stream",
     "text": [
      "['Male' 'Female' 'Prefer not to answer']\n"
     ]
    }
   ],
   "source": [
    "print(df['Gender'].unique())"
   ]
  },
  {
   "cell_type": "markdown",
   "metadata": {},
   "source": [
    "**Churn**: Text string [Yes, No] of if the customer has cancelled the provider's subscription within the last month"
   ]
  },
  {
   "cell_type": "markdown",
   "metadata": {},
   "source": [
    "**Outage_sec_perweek**: Floating point number of the amount of seconds per week the customer has experienced an outage\\\n",
    "**Email**: Integer number of how many emails the customer has received in the last year\\\n",
    "**Contacts**: Integer number of the number of times the customer has contacted technical support\\\n",
    "**Yearly_equip_failure**: Integer number of the number of times the customer's equipment was reported to fail\\\n",
    "**Techie**: Text string [Yes, No] that indicates if the customer considers themselves as technologically inclined\\\n",
    "**Contract**: Text string of the type of contract the customer has"
   ]
  },
  {
   "cell_type": "code",
   "execution_count": 8,
   "metadata": {},
   "outputs": [
    {
     "name": "stdout",
     "output_type": "stream",
     "text": [
      "['One year' 'Month-to-month' 'Two Year']\n"
     ]
    }
   ],
   "source": [
    "print(df['Contract'].unique())"
   ]
  },
  {
   "cell_type": "markdown",
   "metadata": {},
   "source": [
    "**Port_modem**: Text string [Yes, No] that indicates if the customer has a portable modem\\\n",
    "**Tablet**: Text string [Yes, No] that indicates if the customer owns a Tablet\\\n",
    "**InternetService**: Text string of the type of internet service the customer has\\"
   ]
  },
  {
   "cell_type": "code",
   "execution_count": 9,
   "metadata": {},
   "outputs": [
    {
     "name": "stdout",
     "output_type": "stream",
     "text": [
      "['Fiber Optic' 'DSL' 'None']\n"
     ]
    }
   ],
   "source": [
    "print(df['InternetService'].unique())"
   ]
  },
  {
   "cell_type": "markdown",
   "metadata": {},
   "source": [
    "**Phone**: Text string [Yes, No] indicates if the customer had phone service\\\n",
    "**Multiple**: Text string [Yes, No] indicates if the customer had multiple phone lines\\\n",
    "**OnlineSecurity**: Text string [Yes, No] indicates if the customer had online security add-on\\\n",
    "**OnlineBackup**: Text string [Yes, No] indicates if the customer had the online backup add-on\\\n",
    "**DeviceProtection**: Text string [Yes, No] indicates if the customer had device protection add-on\\\n",
    "**TechSupport**: Text string [Yes, No] indicates if the customer had access to Tech Suppor add-ont\\\n",
    "**StreamingTV**: Text string [Yes, No] indicates if the customer had Streaming TV service\\\n",
    "**StreamingMovies**: Text string [Yes, No] indicates if the customer had Streaming movies service\\\n",
    "**PaperBilling**: Text string [Yes, No] indicates if the customer had paperless billing\\\n",
    "**PaymentMethod**: Text string of the type of payment method the customer used\\"
   ]
  },
  {
   "cell_type": "code",
   "execution_count": 10,
   "metadata": {},
   "outputs": [
    {
     "name": "stdout",
     "output_type": "stream",
     "text": [
      "['Credit Card (automatic)' 'Bank Transfer(automatic)' 'Mailed Check'\n",
      " 'Electronic Check']\n"
     ]
    }
   ],
   "source": [
    "print(df['PaymentMethod'].unique())"
   ]
  },
  {
   "cell_type": "markdown",
   "metadata": {},
   "source": [
    "**Tenure**: Floating point number of the months the customer stayed with the provider\\\n",
    "**MonthlyCharge**: Floating point number of how much the customer was charged on a monthly basis\\\n",
    "**Bandwith_GB_Year**: Floating point number of the average amount of bandwidth a customer used in a year, reflected in an average per customer\\\n",
    "**item1**: Integer between 1-7 rating the level of importance of timely response\\\n",
    "**item2**: Integer between 1-7 rating the level of importance of timely fixes\\\n",
    "**item3**: Integer between 1-8 rating the level of importance of timely replacements\\\n",
    "**item4**: Integer between 1-7 rating the level of importance of reliability\\\n",
    "**item5**: Integer between 1-7 rating the level of importance of options\\\n",
    "**item6**: Integer between 1-8 rating the level of importance of respectful response\\\n",
    "**item7**: Integer between 1-7 rating the level of importance of courteous exchange\\\n",
    "**item8**: Integer between 1-8 rating the level of importance of evidence of active listening\\"
   ]
  },
  {
   "cell_type": "code",
   "execution_count": 11,
   "metadata": {},
   "outputs": [
    {
     "name": "stdout",
     "output_type": "stream",
     "text": [
      "item1 [1, 2, 3, 4, 5, 6, 7]\n",
      "item2 [1, 2, 3, 4, 5, 6, 7]\n",
      "item3 [1, 2, 3, 4, 5, 6, 7, 8]\n",
      "item4 [1, 2, 3, 4, 5, 6, 7]\n",
      "item5 [1, 2, 3, 4, 5, 6, 7]\n",
      "item6 [1, 2, 3, 4, 5, 6, 7, 8]\n",
      "item7 [1, 2, 3, 4, 5, 6, 7]\n",
      "item8 [1, 2, 3, 4, 5, 6, 7, 8]\n"
     ]
    }
   ],
   "source": [
    "for column in df:\n",
    "    if 'item' in column:\n",
    "        print(column + \" \" + str(sorted(df[column].unique())))"
   ]
  },
  {
   "cell_type": "markdown",
   "metadata": {},
   "source": [
    "# Part 2: Data-Cleaning Plan\n",
    "\n",
    "- I've used the programming language **Python** with the following libraries\n",
    "    - **Pandas**, for converting the csv file into a dataframe and to make calculations on\n",
    "    - **matpotlib.pyplot**, for plotting the data into various graphs"
   ]
  },
  {
   "cell_type": "markdown",
   "metadata": {},
   "source": [
    "My plan for cleaning the data is to first rename the survey item columns to provide better context while working with the data. Next I will check for missing values (null data) and check for outliers in the data by using various graphs. Below is an outline of the process I will take:\\ \n",
    "\\\n",
    "- Rename columns to provide more context when data mining\n",
    "    - items 1-8 should clarify what survey question it contained\n",
    "- Address variables that have missing data. If the variables are numerical and show a pattern of Missing at Random using graphing techniques, then I will apply the average the to the null data. For the fields with Text [Yes, No] variables I will replace the Null data with a new text string of 'Not Answered' to indicate the data from the sign up information was not answered or missing. If the variables are missing data in a pattern then the variable will be removed to avoid potentially bias conclusions. \n",
    "    - Numerical Variables with missing data:\n",
    "        - Children\n",
    "        - Age\n",
    "        - Income\n",
    "        - Tenure\n",
    "        - Bandwidth_GB_Year\n",
    "    - Yes/No Variables with missing data:\n",
    "        - Techie\n",
    "        - Phone\n",
    "        - TechSupport\n",
    "- Go through each variable that could have outliers and apply graphing techniques (Boxplots or Histograms) to find the outliers in the data and remove or standardize the data if it's outside a particular threshold\n",
    "    - Income\n",
    "    - Population\n",
    "    - Outage_sec_perweek\n",
    "    - Tenure\n",
    "    - MonthlyCharge\n",
    "    - Bandwith_GB_Year\n",
    "    - Contacts"
   ]
  },
  {
   "cell_type": "markdown",
   "metadata": {},
   "source": [
    "## Part 3: Data Cleaning"
   ]
  },
  {
   "cell_type": "markdown",
   "metadata": {},
   "source": [
    "### Renaming item columns to more closely match their survey question"
   ]
  },
  {
   "cell_type": "code",
   "execution_count": 12,
   "metadata": {},
   "outputs": [
    {
     "data": {
      "text/html": [
       "<div>\n",
       "<style scoped>\n",
       "    .dataframe tbody tr th:only-of-type {\n",
       "        vertical-align: middle;\n",
       "    }\n",
       "\n",
       "    .dataframe tbody tr th {\n",
       "        vertical-align: top;\n",
       "    }\n",
       "\n",
       "    .dataframe thead th {\n",
       "        text-align: right;\n",
       "    }\n",
       "</style>\n",
       "<table border=\"1\" class=\"dataframe\">\n",
       "  <thead>\n",
       "    <tr style=\"text-align: right;\">\n",
       "      <th></th>\n",
       "      <th>CaseOrder</th>\n",
       "      <th>Customer_id</th>\n",
       "      <th>Interaction</th>\n",
       "      <th>City</th>\n",
       "      <th>State</th>\n",
       "      <th>County</th>\n",
       "      <th>Zip</th>\n",
       "      <th>Lat</th>\n",
       "      <th>Lng</th>\n",
       "      <th>Population</th>\n",
       "      <th>...</th>\n",
       "      <th>MonthlyCharge</th>\n",
       "      <th>Bandwidth_GB_Year</th>\n",
       "      <th>Survey_Timely_Response</th>\n",
       "      <th>Survey_Timely_Fixes</th>\n",
       "      <th>Survey_Timely_Replacements</th>\n",
       "      <th>Survey_Reliability</th>\n",
       "      <th>Survey_Options</th>\n",
       "      <th>Survey_Respectful_Response</th>\n",
       "      <th>Survey_Courteous_Exchange</th>\n",
       "      <th>Survey_Active_Listening</th>\n",
       "    </tr>\n",
       "  </thead>\n",
       "  <tbody>\n",
       "    <tr>\n",
       "      <th>1</th>\n",
       "      <td>1</td>\n",
       "      <td>K409198</td>\n",
       "      <td>aa90260b-4141-4a24-8e36-b04ce1f4f77b</td>\n",
       "      <td>Point Baker</td>\n",
       "      <td>AK</td>\n",
       "      <td>Prince of Wales-Hyder</td>\n",
       "      <td>99927</td>\n",
       "      <td>56.25100</td>\n",
       "      <td>-133.37571</td>\n",
       "      <td>38</td>\n",
       "      <td>...</td>\n",
       "      <td>171.449762</td>\n",
       "      <td>904.536110</td>\n",
       "      <td>5</td>\n",
       "      <td>5</td>\n",
       "      <td>5</td>\n",
       "      <td>3</td>\n",
       "      <td>4</td>\n",
       "      <td>4</td>\n",
       "      <td>3</td>\n",
       "      <td>4</td>\n",
       "    </tr>\n",
       "    <tr>\n",
       "      <th>2</th>\n",
       "      <td>2</td>\n",
       "      <td>S120509</td>\n",
       "      <td>fb76459f-c047-4a9d-8af9-e0f7d4ac2524</td>\n",
       "      <td>West Branch</td>\n",
       "      <td>MI</td>\n",
       "      <td>Ogemaw</td>\n",
       "      <td>48661</td>\n",
       "      <td>44.32893</td>\n",
       "      <td>-84.24080</td>\n",
       "      <td>10446</td>\n",
       "      <td>...</td>\n",
       "      <td>242.948015</td>\n",
       "      <td>800.982766</td>\n",
       "      <td>3</td>\n",
       "      <td>4</td>\n",
       "      <td>3</td>\n",
       "      <td>3</td>\n",
       "      <td>4</td>\n",
       "      <td>3</td>\n",
       "      <td>4</td>\n",
       "      <td>4</td>\n",
       "    </tr>\n",
       "    <tr>\n",
       "      <th>3</th>\n",
       "      <td>3</td>\n",
       "      <td>K191035</td>\n",
       "      <td>344d114c-3736-4be5-98f7-c72c281e2d35</td>\n",
       "      <td>Yamhill</td>\n",
       "      <td>OR</td>\n",
       "      <td>Yamhill</td>\n",
       "      <td>97148</td>\n",
       "      <td>45.35589</td>\n",
       "      <td>-123.24657</td>\n",
       "      <td>3735</td>\n",
       "      <td>...</td>\n",
       "      <td>159.440398</td>\n",
       "      <td>2054.706961</td>\n",
       "      <td>4</td>\n",
       "      <td>4</td>\n",
       "      <td>2</td>\n",
       "      <td>4</td>\n",
       "      <td>4</td>\n",
       "      <td>3</td>\n",
       "      <td>3</td>\n",
       "      <td>3</td>\n",
       "    </tr>\n",
       "    <tr>\n",
       "      <th>4</th>\n",
       "      <td>4</td>\n",
       "      <td>D90850</td>\n",
       "      <td>abfa2b40-2d43-4994-b15a-989b8c79e311</td>\n",
       "      <td>Del Mar</td>\n",
       "      <td>CA</td>\n",
       "      <td>San Diego</td>\n",
       "      <td>92014</td>\n",
       "      <td>32.96687</td>\n",
       "      <td>-117.24798</td>\n",
       "      <td>13863</td>\n",
       "      <td>...</td>\n",
       "      <td>120.249493</td>\n",
       "      <td>2164.579412</td>\n",
       "      <td>4</td>\n",
       "      <td>4</td>\n",
       "      <td>4</td>\n",
       "      <td>2</td>\n",
       "      <td>5</td>\n",
       "      <td>4</td>\n",
       "      <td>3</td>\n",
       "      <td>3</td>\n",
       "    </tr>\n",
       "    <tr>\n",
       "      <th>5</th>\n",
       "      <td>5</td>\n",
       "      <td>K662701</td>\n",
       "      <td>68a861fd-0d20-4e51-a587-8a90407ee574</td>\n",
       "      <td>Needville</td>\n",
       "      <td>TX</td>\n",
       "      <td>Fort Bend</td>\n",
       "      <td>77461</td>\n",
       "      <td>29.38012</td>\n",
       "      <td>-95.80673</td>\n",
       "      <td>11352</td>\n",
       "      <td>...</td>\n",
       "      <td>150.761216</td>\n",
       "      <td>271.493436</td>\n",
       "      <td>4</td>\n",
       "      <td>4</td>\n",
       "      <td>4</td>\n",
       "      <td>3</td>\n",
       "      <td>4</td>\n",
       "      <td>4</td>\n",
       "      <td>4</td>\n",
       "      <td>5</td>\n",
       "    </tr>\n",
       "  </tbody>\n",
       "</table>\n",
       "<p>5 rows × 51 columns</p>\n",
       "</div>"
      ],
      "text/plain": [
       "   CaseOrder Customer_id                           Interaction         City  \\\n",
       "1          1     K409198  aa90260b-4141-4a24-8e36-b04ce1f4f77b  Point Baker   \n",
       "2          2     S120509  fb76459f-c047-4a9d-8af9-e0f7d4ac2524  West Branch   \n",
       "3          3     K191035  344d114c-3736-4be5-98f7-c72c281e2d35      Yamhill   \n",
       "4          4      D90850  abfa2b40-2d43-4994-b15a-989b8c79e311      Del Mar   \n",
       "5          5     K662701  68a861fd-0d20-4e51-a587-8a90407ee574    Needville   \n",
       "\n",
       "  State                 County    Zip       Lat        Lng  Population  ...  \\\n",
       "1    AK  Prince of Wales-Hyder  99927  56.25100 -133.37571          38  ...   \n",
       "2    MI                 Ogemaw  48661  44.32893  -84.24080       10446  ...   \n",
       "3    OR                Yamhill  97148  45.35589 -123.24657        3735  ...   \n",
       "4    CA              San Diego  92014  32.96687 -117.24798       13863  ...   \n",
       "5    TX              Fort Bend  77461  29.38012  -95.80673       11352  ...   \n",
       "\n",
       "  MonthlyCharge Bandwidth_GB_Year Survey_Timely_Response  Survey_Timely_Fixes  \\\n",
       "1    171.449762        904.536110                      5                    5   \n",
       "2    242.948015        800.982766                      3                    4   \n",
       "3    159.440398       2054.706961                      4                    4   \n",
       "4    120.249493       2164.579412                      4                    4   \n",
       "5    150.761216        271.493436                      4                    4   \n",
       "\n",
       "   Survey_Timely_Replacements Survey_Reliability Survey_Options  \\\n",
       "1                           5                  3              4   \n",
       "2                           3                  3              4   \n",
       "3                           2                  4              4   \n",
       "4                           4                  2              5   \n",
       "5                           4                  3              4   \n",
       "\n",
       "   Survey_Respectful_Response Survey_Courteous_Exchange  \\\n",
       "1                           4                         3   \n",
       "2                           3                         4   \n",
       "3                           3                         3   \n",
       "4                           4                         3   \n",
       "5                           4                         4   \n",
       "\n",
       "  Survey_Active_Listening  \n",
       "1                       4  \n",
       "2                       4  \n",
       "3                       3  \n",
       "4                       3  \n",
       "5                       5  \n",
       "\n",
       "[5 rows x 51 columns]"
      ]
     },
     "execution_count": 12,
     "metadata": {},
     "output_type": "execute_result"
    }
   ],
   "source": [
    "# Renaming Survey Item columns\n",
    "df = df.rename(columns={\n",
    "    'item1': 'Survey_Timely_Response',\n",
    "    'item2': 'Survey_Timely_Fixes',\n",
    "    'item3': 'Survey_Timely_Replacements',\n",
    "    'item4': 'Survey_Reliability',\n",
    "    'item5': 'Survey_Options',\n",
    "    'item6': 'Survey_Respectful_Response',\n",
    "    'item7': 'Survey_Courteous_Exchange',\n",
    "    'item8': 'Survey_Active_Listening'\n",
    "})\n",
    "df.head()"
   ]
  },
  {
   "cell_type": "markdown",
   "metadata": {},
   "source": [
    "### Comparing Churn data for rows with null Children data against rows with Children data"
   ]
  },
  {
   "cell_type": "code",
   "execution_count": 13,
   "metadata": {},
   "outputs": [
    {
     "data": {
      "text/plain": [
       "Text(0.5, 1.0, 'Churn Data with missing Children')"
      ]
     },
     "execution_count": 13,
     "metadata": {},
     "output_type": "execute_result"
    },
    {
     "data": {
      "image/png": "[encoded data removed]",
      "text/plain": [
       "<Figure size 432x288 with 1 Axes>"
      ]
     },
     "metadata": {
      "needs_background": "light"
     },
     "output_type": "display_data"
    }
   ],
   "source": [
    "# All rows with null children\n",
    "df_null_children = df[df['Children'].isnull()]\n",
    "# All rows with children\n",
    "df_not_null_children = df[df['Children'].notnull()]\n",
    "\n",
    "# Histogram showing churn for all rows with null Children\n",
    "plt.hist(df_null_children['Churn'])\n",
    "plt.xlabel('Churn')\n",
    "plt.ylabel('Customer Count')\n",
    "plt.title('Churn Data with missing Children')"
   ]
  },
  {
   "cell_type": "code",
   "execution_count": 14,
   "metadata": {},
   "outputs": [
    {
     "data": {
      "text/plain": [
       "Text(0.5, 1.0, 'Churn Data for Customers with Children')"
      ]
     },
     "execution_count": 14,
     "metadata": {},
     "output_type": "execute_result"
    },
    {
     "data": {
      "image/png": "[encoded data removed]",
      "text/plain": [
       "<Figure size 432x288 with 1 Axes>"
      ]
     },
     "metadata": {
      "needs_background": "light"
     },
     "output_type": "display_data"
    }
   ],
   "source": [
    "# Histogram showing churn for all rows with children\n",
    "plt.hist(df_not_null_children['Churn'])\n",
    "plt.xlabel('Churn')\n",
    "plt.ylabel('Customer Count')\n",
    "plt.title('Churn Data for Customers with Children')"
   ]
  },
  {
   "cell_type": "markdown",
   "metadata": {},
   "source": [
    "**The above histograms show that the ratio of Customer Churn is appears the same regardless if Children are null or not null**\\\n",
    "Now I will fill the null values with the avgerage number of children per customer"
   ]
  },
  {
   "cell_type": "code",
   "execution_count": 15,
   "metadata": {},
   "outputs": [],
   "source": [
    "# Fills the null values for children with the average number of children per customer\n",
    "df['Children'].fillna(int((df['Children'].mean())), inplace=True)"
   ]
  },
  {
   "cell_type": "markdown",
   "metadata": {},
   "source": [
    "### Comparing Churn data for rows with null Age data against rows with Age data"
   ]
  },
  {
   "cell_type": "code",
   "execution_count": 16,
   "metadata": {},
   "outputs": [
    {
     "data": {
      "text/plain": [
       "Text(0.5, 1.0, 'Churn Data with missing Age')"
      ]
     },
     "execution_count": 16,
     "metadata": {},
     "output_type": "execute_result"
    },
    {
     "data": {
      "image/png": "[encoded data removed]",
      "text/plain": [
       "<Figure size 432x288 with 1 Axes>"
      ]
     },
     "metadata": {
      "needs_background": "light"
     },
     "output_type": "display_data"
    }
   ],
   "source": [
    "# All rows with null ages\n",
    "df_null_age = df[df['Age'].isnull()]\n",
    "# All rows with ages\n",
    "df_not_null_age = df[df['Age'].notnull()]\n",
    "\n",
    "# Histogram showing churn for all rows with null Ages\n",
    "plt.hist(df_null_age['Churn'])\n",
    "plt.xlabel('Churn')\n",
    "plt.ylabel('Customer Count')\n",
    "plt.title('Churn Data with missing Age')"
   ]
  },
  {
   "cell_type": "code",
   "execution_count": 17,
   "metadata": {},
   "outputs": [
    {
     "data": {
      "text/plain": [
       "Text(0.5, 1.0, 'Churn Data for Customers with Ages')"
      ]
     },
     "execution_count": 17,
     "metadata": {},
     "output_type": "execute_result"
    },
    {
     "data": {
      "image/png": "[encoded data removed]",
      "text/plain": [
       "<Figure size 432x288 with 1 Axes>"
      ]
     },
     "metadata": {
      "needs_background": "light"
     },
     "output_type": "display_data"
    }
   ],
   "source": [
    "# Histogram showing churn for all rows with ages\n",
    "plt.hist(df_not_null_age['Churn'])\n",
    "plt.xlabel('Churn')\n",
    "plt.ylabel('Customer Count')\n",
    "plt.title('Churn Data for Customers with Ages')"
   ]
  },
  {
   "cell_type": "markdown",
   "metadata": {},
   "source": [
    "**The above histograms show that the ratio of Customer Churn is appears the same regardless if Age is null or not null**\\\n",
    "Now I will fill the null values with the avgerage age per customer"
   ]
  },
  {
   "cell_type": "code",
   "execution_count": 18,
   "metadata": {},
   "outputs": [],
   "source": [
    "# Fills the null values for children with the average age per customer\n",
    "df['Age'].fillna(int((df['Age'].mean())), inplace=True)"
   ]
  },
  {
   "cell_type": "markdown",
   "metadata": {},
   "source": [
    "### Comparing Churn data for rows with null Income data against rows with Income data"
   ]
  },
  {
   "cell_type": "code",
   "execution_count": 19,
   "metadata": {},
   "outputs": [
    {
     "data": {
      "text/plain": [
       "Text(0.5, 1.0, 'Churn Data with missing Income')"
      ]
     },
     "execution_count": 19,
     "metadata": {},
     "output_type": "execute_result"
    },
    {
     "data": {
      "image/png": "[encoded data removed]",
      "text/plain": [
       "<Figure size 432x288 with 1 Axes>"
      ]
     },
     "metadata": {
      "needs_background": "light"
     },
     "output_type": "display_data"
    }
   ],
   "source": [
    "# All rows with null income\n",
    "df_null_income = df[df['Income'].isnull()]\n",
    "# All rows with income\n",
    "df_not_null_income = df[df['Income'].notnull()]\n",
    "\n",
    "# Histogram showing churn for all rows with null Income\n",
    "plt.hist(df_null_income['Churn'])\n",
    "plt.xlabel('Churn')\n",
    "plt.ylabel('Customer Count')\n",
    "plt.title('Churn Data with missing Income')"
   ]
  },
  {
   "cell_type": "code",
   "execution_count": 20,
   "metadata": {},
   "outputs": [
    {
     "data": {
      "text/plain": [
       "Text(0.5, 1.0, 'Churn Data for Customers with Income')"
      ]
     },
     "execution_count": 20,
     "metadata": {},
     "output_type": "execute_result"
    },
    {
     "data": {
      "image/png": "[encoded data removed]",
      "text/plain": [
       "<Figure size 432x288 with 1 Axes>"
      ]
     },
     "metadata": {
      "needs_background": "light"
     },
     "output_type": "display_data"
    }
   ],
   "source": [
    "# Histogram showing churn for all rows with ages\n",
    "plt.hist(df_not_null_income['Churn'])\n",
    "plt.xlabel('Churn')\n",
    "plt.ylabel('Customer Count')\n",
    "plt.title('Churn Data for Customers with Income')"
   ]
  },
  {
   "cell_type": "markdown",
   "metadata": {},
   "source": [
    "**The above histograms show that the ratio of Customer Churn is appears the same regardless if Income is null or not null**\\\n",
    "Now I will fill the null values with the avgerage income per customer"
   ]
  },
  {
   "cell_type": "code",
   "execution_count": 21,
   "metadata": {},
   "outputs": [],
   "source": [
    "# Fills the null values for children with the average income per customer\n",
    "df['Income'].fillna((df['Income'].mean()), inplace=True)"
   ]
  },
  {
   "cell_type": "markdown",
   "metadata": {},
   "source": [
    "### Comparing Churn data for rows with null Tenure data against rows with Tenure data"
   ]
  },
  {
   "cell_type": "code",
   "execution_count": 22,
   "metadata": {},
   "outputs": [
    {
     "data": {
      "text/plain": [
       "Text(0.5, 1.0, 'Churn Data with missing Tenure')"
      ]
     },
     "execution_count": 22,
     "metadata": {},
     "output_type": "execute_result"
    },
    {
     "data": {
      "image/png": "[encoded data removed]",
      "text/plain": [
       "<Figure size 432x288 with 1 Axes>"
      ]
     },
     "metadata": {
      "needs_background": "light"
     },
     "output_type": "display_data"
    }
   ],
   "source": [
    "# All rows with null Tenure\n",
    "df_null_tenure = df[df['Tenure'].isnull()]\n",
    "# All rows with Tenure\n",
    "df_not_null_tenure = df[df['Tenure'].notnull()]\n",
    "\n",
    "# Histogram showing churn for all rows with null Tenure\n",
    "plt.hist(df_null_tenure['Churn'])\n",
    "plt.xlabel('Churn')\n",
    "plt.ylabel('Customer Count')\n",
    "plt.title('Churn Data with missing Tenure')"
   ]
  },
  {
   "cell_type": "code",
   "execution_count": 23,
   "metadata": {},
   "outputs": [
    {
     "data": {
      "text/plain": [
       "Text(0.5, 1.0, 'Churn Data for Customers with Tenure')"
      ]
     },
     "execution_count": 23,
     "metadata": {},
     "output_type": "execute_result"
    },
    {
     "data": {
      "image/png": "[encoded data removed]",
      "text/plain": [
       "<Figure size 432x288 with 1 Axes>"
      ]
     },
     "metadata": {
      "needs_background": "light"
     },
     "output_type": "display_data"
    }
   ],
   "source": [
    "# Histogram showing churn for all rows with Tenure\n",
    "plt.hist(df_not_null_tenure['Churn'])\n",
    "plt.xlabel('Churn')\n",
    "plt.ylabel('Customer Count')\n",
    "plt.title('Churn Data for Customers with Tenure')"
   ]
  },
  {
   "cell_type": "markdown",
   "metadata": {},
   "source": [
    "**The above histograms show that the ratio of Customer Churn is appears the same regardless if Tenure is null or not null**\\\n",
    "Now I will fill the null values with the avgerage tenure per customer"
   ]
  },
  {
   "cell_type": "code",
   "execution_count": 24,
   "metadata": {},
   "outputs": [],
   "source": [
    "# Fills the null values for children with the average tenure per customer\n",
    "df['Tenure'].fillna((df['Tenure'].mean()), inplace=True)"
   ]
  },
  {
   "cell_type": "markdown",
   "metadata": {},
   "source": [
    "### Comparing Churn data for rows with null Bandwidth_GB_Year data against rows with Bandwidth_GB_Year data"
   ]
  },
  {
   "cell_type": "code",
   "execution_count": 25,
   "metadata": {},
   "outputs": [
    {
     "data": {
      "text/plain": [
       "Text(0.5, 1.0, 'Churn Data with missing Bandwith')"
      ]
     },
     "execution_count": 25,
     "metadata": {},
     "output_type": "execute_result"
    },
    {
     "data": {
      "image/png": "[encoded data removed]",
      "text/plain": [
       "<Figure size 432x288 with 1 Axes>"
      ]
     },
     "metadata": {
      "needs_background": "light"
     },
     "output_type": "display_data"
    }
   ],
   "source": [
    "# All rows with null Bandwidth\n",
    "df_null_bandwith = df[df['Bandwidth_GB_Year'].isnull()]\n",
    "# All rows with Bandwidth\n",
    "df_not_null_bandwith = df[df['Bandwidth_GB_Year'].notnull()]\n",
    "\n",
    "# Histogram showing churn for all rows with null Bandwidth\n",
    "plt.hist(df_null_bandwith['Churn'])\n",
    "plt.xlabel('Churn')\n",
    "plt.ylabel('Customer Count')\n",
    "plt.title('Churn Data with missing Bandwith')"
   ]
  },
  {
   "cell_type": "code",
   "execution_count": 26,
   "metadata": {},
   "outputs": [
    {
     "data": {
      "text/plain": [
       "Text(0.5, 1.0, 'Churn Data for Customers with Bandwith')"
      ]
     },
     "execution_count": 26,
     "metadata": {},
     "output_type": "execute_result"
    },
    {
     "data": {
      "image/png": "[encoded data removed]",
      "text/plain": [
       "<Figure size 432x288 with 1 Axes>"
      ]
     },
     "metadata": {
      "needs_background": "light"
     },
     "output_type": "display_data"
    }
   ],
   "source": [
    "# Histogram showing churn for all rows with Bandwidth\n",
    "plt.hist(df_not_null_bandwith['Churn'])\n",
    "plt.xlabel('Churn')\n",
    "plt.ylabel('Customer Count')\n",
    "plt.title('Churn Data for Customers with Bandwith')"
   ]
  },
  {
   "cell_type": "markdown",
   "metadata": {},
   "source": [
    "**The above histograms show that the ratio of Customer Churn is appears the same regardless if Bandwidth_GB_Year is null or not null**\\\n",
    "Now I will fill the null values with the avgerage Bandwidth_GB_Year per customer"
   ]
  },
  {
   "cell_type": "code",
   "execution_count": 27,
   "metadata": {},
   "outputs": [],
   "source": [
    "# Fills the null values for children with the average Bandwidth_GB_Year per customer\n",
    "df['Bandwidth_GB_Year'].fillna((df['Bandwidth_GB_Year'].mean()), inplace=True)"
   ]
  },
  {
   "cell_type": "markdown",
   "metadata": {},
   "source": [
    "### The columns Techie, Phone, TechSupport all have missing data but are Text fields with either 'Yes' or 'No\n",
    "I will do similar checks on this data to make sure they appear to be null at random and if so replace the Null data with a new text string \"Not Answered\" to clarify that the customer did not give a Yes or No answer. Otherwise if the missing data is in a patter I'll remove the rows with Null data to prevent bias analysis."
   ]
  },
  {
   "cell_type": "markdown",
   "metadata": {},
   "source": [
    "### Comparing Churn data for rows with null Techie data against rows with Techie data"
   ]
  },
  {
   "cell_type": "code",
   "execution_count": 28,
   "metadata": {},
   "outputs": [
    {
     "data": {
      "text/plain": [
       "Text(0.5, 1.0, 'Churn Data with missing Techie data')"
      ]
     },
     "execution_count": 28,
     "metadata": {},
     "output_type": "execute_result"
    },
    {
     "data": {
      "image/png": "[encoded data removed]",
      "text/plain": [
       "<Figure size 432x288 with 1 Axes>"
      ]
     },
     "metadata": {
      "needs_background": "light"
     },
     "output_type": "display_data"
    }
   ],
   "source": [
    "# All rows with null Techie data\n",
    "df_null_techie = df[df['Techie'].isnull()]\n",
    "# All rows with Techie Data\n",
    "df_not_null_techie = df[df['Techie'].notnull()]\n",
    "\n",
    "# Histogram showing churn for all rows with null Techie data\n",
    "plt.hist(df_null_techie['Churn'])\n",
    "plt.xlabel('Churn')\n",
    "plt.ylabel('Customer Count')\n",
    "plt.title('Churn Data with missing Techie data')"
   ]
  },
  {
   "cell_type": "code",
   "execution_count": 29,
   "metadata": {},
   "outputs": [
    {
     "data": {
      "text/plain": [
       "Text(0.5, 1.0, 'Churn Data for Customers with Techie data')"
      ]
     },
     "execution_count": 29,
     "metadata": {},
     "output_type": "execute_result"
    },
    {
     "data": {
      "image/png": "[encoded data removed]",
      "text/plain": [
       "<Figure size 432x288 with 1 Axes>"
      ]
     },
     "metadata": {
      "needs_background": "light"
     },
     "output_type": "display_data"
    }
   ],
   "source": [
    "# Histogram showing churn for all rows with Techie data\n",
    "plt.hist(df_not_null_techie['Churn'])\n",
    "plt.xlabel('Churn')\n",
    "plt.ylabel('Customer Count')\n",
    "plt.title('Churn Data for Customers with Techie data')"
   ]
  },
  {
   "cell_type": "markdown",
   "metadata": {},
   "source": [
    "**The above histograms show that the ratio of Customer Churn is appears the same regardless if Techie data is null or not null**\\\n",
    "Now I will fill the null values with the text string \"Not Answered\""
   ]
  },
  {
   "cell_type": "code",
   "execution_count": 30,
   "metadata": {},
   "outputs": [],
   "source": [
    "# Fills the null values for Techie data with the text string \"Not Answered\"\n",
    "df['Techie'].fillna(('Not Answered'), inplace=True)"
   ]
  },
  {
   "cell_type": "markdown",
   "metadata": {},
   "source": [
    "### Comparing Churn data for rows with null Phone data against rows with Phone data"
   ]
  },
  {
   "cell_type": "code",
   "execution_count": 31,
   "metadata": {},
   "outputs": [
    {
     "data": {
      "text/plain": [
       "Text(0.5, 1.0, 'Churn Data with missing Phone data')"
      ]
     },
     "execution_count": 31,
     "metadata": {},
     "output_type": "execute_result"
    },
    {
     "data": {
      "image/png": "[encoded data removed]",
      "text/plain": [
       "<Figure size 432x288 with 1 Axes>"
      ]
     },
     "metadata": {
      "needs_background": "light"
     },
     "output_type": "display_data"
    }
   ],
   "source": [
    "# All rows with null Phone data\n",
    "df_null_phone = df[df['Phone'].isnull()]\n",
    "# All rows with Phone Data\n",
    "df_not_null_phone = df[df['Phone'].notnull()]\n",
    "\n",
    "# Histogram showing churn for all rows with null Phone data\n",
    "plt.hist(df_null_phone['Churn'])\n",
    "plt.xlabel('Churn')\n",
    "plt.ylabel('Customer Count')\n",
    "plt.title('Churn Data with missing Phone data')"
   ]
  },
  {
   "cell_type": "code",
   "execution_count": 32,
   "metadata": {},
   "outputs": [
    {
     "data": {
      "text/plain": [
       "Text(0.5, 1.0, 'Churn Data for Customers with Phone data')"
      ]
     },
     "execution_count": 32,
     "metadata": {},
     "output_type": "execute_result"
    },
    {
     "data": {
      "image/png": "[encoded data removed]",
      "text/plain": [
       "<Figure size 432x288 with 1 Axes>"
      ]
     },
     "metadata": {
      "needs_background": "light"
     },
     "output_type": "display_data"
    }
   ],
   "source": [
    "# Histogram showing churn for all rows with Phone data\n",
    "plt.hist(df_not_null_phone['Churn'])\n",
    "plt.xlabel('Churn')\n",
    "plt.ylabel('Customer Count')\n",
    "plt.title('Churn Data for Customers with Phone data')"
   ]
  },
  {
   "cell_type": "markdown",
   "metadata": {},
   "source": [
    "**The above histograms show that the ratio of Customer Churn is appears the same regardless if Phone data is null or not null**\\\n",
    "Now I will fill the null values with the text string \"Not Answered\""
   ]
  },
  {
   "cell_type": "code",
   "execution_count": 33,
   "metadata": {},
   "outputs": [],
   "source": [
    "# Fills the null values for Phone data with the text string \"Not Answered\"\n",
    "df['Phone'].fillna(('Not Answered'), inplace=True)"
   ]
  },
  {
   "cell_type": "markdown",
   "metadata": {},
   "source": [
    "### Comparing Churn data for rows with null Phone data against rows with TechSupport data"
   ]
  },
  {
   "cell_type": "code",
   "execution_count": 34,
   "metadata": {},
   "outputs": [
    {
     "data": {
      "text/plain": [
       "Text(0.5, 1.0, 'Churn Data with missing TechSupport data')"
      ]
     },
     "execution_count": 34,
     "metadata": {},
     "output_type": "execute_result"
    },
    {
     "data": {
      "image/png": "[encoded data removed]",
      "text/plain": [
       "<Figure size 432x288 with 1 Axes>"
      ]
     },
     "metadata": {
      "needs_background": "light"
     },
     "output_type": "display_data"
    }
   ],
   "source": [
    "# All rows with null TechSupport data\n",
    "df_null_tech_support = df[df['TechSupport'].isnull()]\n",
    "# All rows with TechSupport Data\n",
    "df_not_null_tech_support = df[df['TechSupport'].notnull()]\n",
    "\n",
    "# Histogram showing churn for all rows with null TechSupport data\n",
    "plt.hist(df_null_tech_support['Churn'])\n",
    "plt.xlabel('Churn')\n",
    "plt.ylabel('Customer Count')\n",
    "plt.title('Churn Data with missing TechSupport data')"
   ]
  },
  {
   "cell_type": "code",
   "execution_count": 35,
   "metadata": {},
   "outputs": [
    {
     "data": {
      "text/plain": [
       "Text(0.5, 1.0, 'Churn Data for Customers with TechSupport data')"
      ]
     },
     "execution_count": 35,
     "metadata": {},
     "output_type": "execute_result"
    },
    {
     "data": {
      "image/png": "[encoded data removed]",
      "text/plain": [
       "<Figure size 432x288 with 1 Axes>"
      ]
     },
     "metadata": {
      "needs_background": "light"
     },
     "output_type": "display_data"
    }
   ],
   "source": [
    "# Histogram showing churn for all rows with TechSupport data\n",
    "plt.hist(df_not_null_tech_support['Churn'])\n",
    "plt.xlabel('Churn')\n",
    "plt.ylabel('Customer Count')\n",
    "plt.title('Churn Data for Customers with TechSupport data')"
   ]
  },
  {
   "cell_type": "markdown",
   "metadata": {},
   "source": [
    "**The above histograms show that the ratio of Customer Churn is appears the same regardless if TechSupport data is null or not null**\\\n",
    "Now I will fill the null values with the text string \"Not Answered\""
   ]
  },
  {
   "cell_type": "code",
   "execution_count": 36,
   "metadata": {},
   "outputs": [],
   "source": [
    "# Fills the null values for TechSupport data with the text string \"Not Answered\"\n",
    "df['TechSupport'].fillna(('Not Answered'), inplace=True)"
   ]
  },
  {
   "cell_type": "markdown",
   "metadata": {},
   "source": [
    "**Now the dataset no longer has missing any data**"
   ]
  },
  {
   "cell_type": "code",
   "execution_count": 37,
   "metadata": {},
   "outputs": [
    {
     "name": "stdout",
     "output_type": "stream",
     "text": [
      "<class 'pandas.core.frame.DataFrame'>\n",
      "Int64Index: 10000 entries, 1 to 10000\n",
      "Data columns (total 51 columns):\n",
      " #   Column                      Non-Null Count  Dtype  \n",
      "---  ------                      --------------  -----  \n",
      " 0   CaseOrder                   10000 non-null  int64  \n",
      " 1   Customer_id                 10000 non-null  object \n",
      " 2   Interaction                 10000 non-null  object \n",
      " 3   City                        10000 non-null  object \n",
      " 4   State                       10000 non-null  object \n",
      " 5   County                      10000 non-null  object \n",
      " 6   Zip                         10000 non-null  int64  \n",
      " 7   Lat                         10000 non-null  float64\n",
      " 8   Lng                         10000 non-null  float64\n",
      " 9   Population                  10000 non-null  int64  \n",
      " 10  Area                        10000 non-null  object \n",
      " 11  Timezone                    10000 non-null  object \n",
      " 12  Job                         10000 non-null  object \n",
      " 13  Children                    10000 non-null  float64\n",
      " 14  Age                         10000 non-null  float64\n",
      " 15  Education                   10000 non-null  object \n",
      " 16  Employment                  10000 non-null  object \n",
      " 17  Income                      10000 non-null  float64\n",
      " 18  Marital                     10000 non-null  object \n",
      " 19  Gender                      10000 non-null  object \n",
      " 20  Churn                       10000 non-null  object \n",
      " 21  Outage_sec_perweek          10000 non-null  float64\n",
      " 22  Email                       10000 non-null  int64  \n",
      " 23  Contacts                    10000 non-null  int64  \n",
      " 24  Yearly_equip_failure        10000 non-null  int64  \n",
      " 25  Techie                      10000 non-null  object \n",
      " 26  Contract                    10000 non-null  object \n",
      " 27  Port_modem                  10000 non-null  object \n",
      " 28  Tablet                      10000 non-null  object \n",
      " 29  InternetService             10000 non-null  object \n",
      " 30  Phone                       10000 non-null  object \n",
      " 31  Multiple                    10000 non-null  object \n",
      " 32  OnlineSecurity              10000 non-null  object \n",
      " 33  OnlineBackup                10000 non-null  object \n",
      " 34  DeviceProtection            10000 non-null  object \n",
      " 35  TechSupport                 10000 non-null  object \n",
      " 36  StreamingTV                 10000 non-null  object \n",
      " 37  StreamingMovies             10000 non-null  object \n",
      " 38  PaperlessBilling            10000 non-null  object \n",
      " 39  PaymentMethod               10000 non-null  object \n",
      " 40  Tenure                      10000 non-null  float64\n",
      " 41  MonthlyCharge               10000 non-null  float64\n",
      " 42  Bandwidth_GB_Year           10000 non-null  float64\n",
      " 43  Survey_Timely_Response      10000 non-null  int64  \n",
      " 44  Survey_Timely_Fixes         10000 non-null  int64  \n",
      " 45  Survey_Timely_Replacements  10000 non-null  int64  \n",
      " 46  Survey_Reliability          10000 non-null  int64  \n",
      " 47  Survey_Options              10000 non-null  int64  \n",
      " 48  Survey_Respectful_Response  10000 non-null  int64  \n",
      " 49  Survey_Courteous_Exchange   10000 non-null  int64  \n",
      " 50  Survey_Active_Listening     10000 non-null  int64  \n",
      "dtypes: float64(9), int64(14), object(28)\n",
      "memory usage: 4.0+ MB\n"
     ]
    }
   ],
   "source": [
    "df.info()"
   ]
  },
  {
   "cell_type": "markdown",
   "metadata": {},
   "source": [
    "### Finding Outliers in the data using Boxplots and Z-Scores"
   ]
  },
  {
   "cell_type": "code",
   "execution_count": 38,
   "metadata": {},
   "outputs": [
    {
     "data": {
      "text/plain": [
       "{'whiskers': [<matplotlib.lines.Line2D at 0x7ff8f8519910>,\n",
       "  <matplotlib.lines.Line2D at 0x7ff8f8519c70>],\n",
       " 'caps': [<matplotlib.lines.Line2D at 0x7ff8f8519fd0>,\n",
       "  <matplotlib.lines.Line2D at 0x7ff8f8526370>],\n",
       " 'boxes': [<matplotlib.lines.Line2D at 0x7ff8f85195b0>],\n",
       " 'medians': [<matplotlib.lines.Line2D at 0x7ff8f85266d0>],\n",
       " 'fliers': [<matplotlib.lines.Line2D at 0x7ff8f8526a30>],\n",
       " 'means': []}"
      ]
     },
     "execution_count": 38,
     "metadata": {},
     "output_type": "execute_result"
    },
    {
     "data": {
      "image/png": "[encoded data removed]",
      "text/plain": [
       "<Figure size 432x288 with 1 Axes>"
      ]
     },
     "metadata": {
      "needs_background": "light"
     },
     "output_type": "display_data"
    }
   ],
   "source": [
    "plt.boxplot(df['MonthlyCharge'])"
   ]
  },
  {
   "cell_type": "code",
   "execution_count": 39,
   "metadata": {
    "scrolled": true
   },
   "outputs": [
    {
     "name": "stdout",
     "output_type": "stream",
     "text": [
      "Outlier Count for MonthlyCharge: 5\n",
      "New Total Count: 9995\n"
     ]
    }
   ],
   "source": [
    "## Grabs outliers using 1.5 IQR Rule\n",
    "# https://www.geeksforgeeks.org/finding-the-outlier-points-from-matplotlib/\n",
    "\n",
    "Q1 =  df['MonthlyCharge'].quantile(0.25)\n",
    "Q3 = df['MonthlyCharge'].quantile(0.75)\n",
    "IQR = Q3 - Q1  #IQR is interquartile range.\n",
    "\n",
    "outlier_count = len(df[(df['MonthlyCharge'] < Q1-1.5*IQR ) | (df['MonthlyCharge'] > Q3+1.5*IQR)])\n",
    "print('Outlier Count for MonthlyCharge: ' + str(outlier_count))\n",
    "\n",
    "# Filters out the outliers and returns the dataframe with the outliers removed\n",
    "df = df[(df['MonthlyCharge'] > Q1-1.5*IQR ) & (df['MonthlyCharge'] < Q3+1.5*IQR)]\n",
    "print('New Total Count: ' + str(len(df)))"
   ]
  },
  {
   "cell_type": "markdown",
   "metadata": {},
   "source": [
    "There are 5 outliers detected here"
   ]
  },
  {
   "cell_type": "code",
   "execution_count": 40,
   "metadata": {},
   "outputs": [
    {
     "data": {
      "text/plain": [
       "{'whiskers': [<matplotlib.lines.Line2D at 0x7ff8f8705fd0>,\n",
       "  <matplotlib.lines.Line2D at 0x7ff8f8713370>],\n",
       " 'caps': [<matplotlib.lines.Line2D at 0x7ff8f87136d0>,\n",
       "  <matplotlib.lines.Line2D at 0x7ff8f8713a30>],\n",
       " 'boxes': [<matplotlib.lines.Line2D at 0x7ff8f8705c70>],\n",
       " 'medians': [<matplotlib.lines.Line2D at 0x7ff8f8713d90>],\n",
       " 'fliers': [<matplotlib.lines.Line2D at 0x7ff8f8721130>],\n",
       " 'means': []}"
      ]
     },
     "execution_count": 40,
     "metadata": {},
     "output_type": "execute_result"
    },
    {
     "data": {
      "image/png": "[encoded data removed]",
      "text/plain": [
       "<Figure size 432x288 with 1 Axes>"
      ]
     },
     "metadata": {
      "needs_background": "light"
     },
     "output_type": "display_data"
    }
   ],
   "source": [
    "plt.boxplot(df['Contacts'])"
   ]
  },
  {
   "cell_type": "code",
   "execution_count": 41,
   "metadata": {},
   "outputs": [
    {
     "name": "stdout",
     "output_type": "stream",
     "text": [
      "Outlier Count for Contacts: 8\n",
      "New Total Count: 9967\n"
     ]
    }
   ],
   "source": [
    "## Grabs outliers using 1.5 IQR Rule\n",
    "# https://www.geeksforgeeks.org/finding-the-outlier-points-from-matplotlib/\n",
    "\n",
    "Q1 =  df['Contacts'].quantile(0.25)\n",
    "Q3 = df['Contacts'].quantile(0.75)\n",
    "IQR = Q3 - Q1  #IQR is interquartile range.\n",
    "\n",
    "outlier_count = len(df[(df['Contacts'] < Q1-1.5*IQR ) | (df['Contacts'] > Q3+1.5*IQR)])\n",
    "print('Outlier Count for Contacts: ' + str(outlier_count))\n",
    "\n",
    "# Filters out the outliers and returns the dataframe with the outliers removed\n",
    "df = df[(df['Contacts'] > Q1-1.5*IQR ) & (df['Contacts'] < Q3+1.5*IQR)]\n",
    "print('New Total Count: ' + str(len(df)))"
   ]
  },
  {
   "cell_type": "code",
   "execution_count": 42,
   "metadata": {},
   "outputs": [
    {
     "data": {
      "text/plain": [
       "{'whiskers': [<matplotlib.lines.Line2D at 0x7ff8f85f5190>,\n",
       "  <matplotlib.lines.Line2D at 0x7ff8f85f54f0>],\n",
       " 'caps': [<matplotlib.lines.Line2D at 0x7ff8f85f5850>,\n",
       "  <matplotlib.lines.Line2D at 0x7ff8f85f5bb0>],\n",
       " 'boxes': [<matplotlib.lines.Line2D at 0x7ff8f85e6df0>],\n",
       " 'medians': [<matplotlib.lines.Line2D at 0x7ff8f85f5f10>],\n",
       " 'fliers': [<matplotlib.lines.Line2D at 0x7ff8f8cb22b0>],\n",
       " 'means': []}"
      ]
     },
     "execution_count": 42,
     "metadata": {},
     "output_type": "execute_result"
    },
    {
     "data": {
      "image/png": "[encoded data removed]",
      "text/plain": [
       "<Figure size 432x288 with 1 Axes>"
      ]
     },
     "metadata": {
      "needs_background": "light"
     },
     "output_type": "display_data"
    }
   ],
   "source": [
    "plt.boxplot(df['Income'])"
   ]
  },
  {
   "cell_type": "code",
   "execution_count": 43,
   "metadata": {},
   "outputs": [
    {
     "name": "stdout",
     "output_type": "stream",
     "text": [
      "Outlier Count for Income: 768\n"
     ]
    }
   ],
   "source": [
    "## Grabs outliers using 1.5 IQR Rule\n",
    "# https://www.geeksforgeeks.org/finding-the-outlier-points-from-matplotlib/\n",
    "\n",
    "Q1 =  df['Income'].quantile(0.25)\n",
    "Q3 = df['Income'].quantile(0.75)\n",
    "IQR = Q3 - Q1  #IQR is interquartile range.\n",
    "\n",
    "outlier_count = len(df[(df['Income'] < Q1-1.5*IQR ) | (df['Income'] > Q3+1.5*IQR)])\n",
    "print('Outlier Count for Income: ' + str(outlier_count))"
   ]
  },
  {
   "cell_type": "markdown",
   "metadata": {},
   "source": [
    "By using just the Boxplot graph we get a total 768, which seems like a lot compared to the total dataset and as seen in the graph. Instead let's try finding the outliers by standardizing the Income variable and count the number of outliers with a score higher than 3 and lower than -3"
   ]
  },
  {
   "cell_type": "code",
   "execution_count": 51,
   "metadata": {},
   "outputs": [
    {
     "name": "stdout",
     "output_type": "stream",
     "text": [
      "Outlier Count for Income using ZScore: 179\n"
     ]
    }
   ],
   "source": [
    "df['income_z'] = stats.zscore(df['Income'])\n",
    "zscore_outlier_count = len(df.query('income_z > 3 | income_z < -3'))\n",
    "print('Outlier Count for Income using ZScore: ' + str(zscore_outlier_count))"
   ]
  },
  {
   "cell_type": "markdown",
   "metadata": {},
   "source": [
    "Now the outlier count for Income is much more realistic and standardized. I'll now remove the outliers."
   ]
  },
  {
   "cell_type": "code",
   "execution_count": 54,
   "metadata": {},
   "outputs": [
    {
     "name": "stdout",
     "output_type": "stream",
     "text": [
      "New Total Count: 9788\n"
     ]
    }
   ],
   "source": [
    "# Filters out all rows where the standardized income value isn't between 3 and -3\n",
    "df = df.query('income_z < 3 & income_z > -3')\n",
    "print('New Total Count: ' + str(len(df)))"
   ]
  },
  {
   "cell_type": "code",
   "execution_count": 45,
   "metadata": {},
   "outputs": [
    {
     "data": {
      "text/plain": [
       "{'whiskers': [<matplotlib.lines.Line2D at 0x7ff8f9130ca0>,\n",
       "  <matplotlib.lines.Line2D at 0x7ff8f913d040>],\n",
       " 'caps': [<matplotlib.lines.Line2D at 0x7ff8f913d3a0>,\n",
       "  <matplotlib.lines.Line2D at 0x7ff8f913d700>],\n",
       " 'boxes': [<matplotlib.lines.Line2D at 0x7ff8f9130940>],\n",
       " 'medians': [<matplotlib.lines.Line2D at 0x7ff8f913da60>],\n",
       " 'fliers': [<matplotlib.lines.Line2D at 0x7ff8f913ddc0>],\n",
       " 'means': []}"
      ]
     },
     "execution_count": 45,
     "metadata": {},
     "output_type": "execute_result"
    },
    {
     "data": {
      "image/png": "[encoded data removed]",
      "text/plain": [
       "<Figure size 432x288 with 1 Axes>"
      ]
     },
     "metadata": {
      "needs_background": "light"
     },
     "output_type": "display_data"
    }
   ],
   "source": [
    "plt.boxplot(df['Population'])"
   ]
  },
  {
   "cell_type": "code",
   "execution_count": 46,
   "metadata": {},
   "outputs": [
    {
     "name": "stdout",
     "output_type": "stream",
     "text": [
      "Outlier Count for Population: 933\n"
     ]
    }
   ],
   "source": [
    "## Grabs outliers using 1.5 IQR Rule\n",
    "# https://www.geeksforgeeks.org/finding-the-outlier-points-from-matplotlib/\n",
    "\n",
    "Q1 =  df['Population'].quantile(0.25)\n",
    "Q3 = df['Population'].quantile(0.75)\n",
    "IQR = Q3 - Q1  #IQR is interquartile range.\n",
    "\n",
    "outlier_count = len(df[(df['Population'] < Q1-1.5*IQR ) | (df['Population'] > Q3+1.5*IQR)])\n",
    "print('Outlier Count for Population: ' + str(outlier_count))"
   ]
  },
  {
   "cell_type": "markdown",
   "metadata": {},
   "source": [
    "The count is too high from just using Boxplot for the population varible. Going to attempt to standardize the variable and remove outliers outside of 3 and -3"
   ]
  },
  {
   "cell_type": "code",
   "execution_count": 57,
   "metadata": {},
   "outputs": [
    {
     "name": "stdout",
     "output_type": "stream",
     "text": [
      "Outlier Count for Population using ZScore: 216\n",
      "New Total Count: 9572\n"
     ]
    }
   ],
   "source": [
    "df['population_z'] = stats.zscore(df['Population'])\n",
    "zscore_outlier_count = len(df.query('population_z > 3 | population_z < -3'))\n",
    "print('Outlier Count for Population using ZScore: ' + str(zscore_outlier_count))\n",
    "\n",
    "# Filters out all rows where the standardized income value isn't between 3 and -3\n",
    "df = df.query('population_z < 3 & population_z > -3')\n",
    "print('New Total Count: ' + str(len(df)))"
   ]
  },
  {
   "cell_type": "code",
   "execution_count": 47,
   "metadata": {},
   "outputs": [
    {
     "data": {
      "text/plain": [
       "{'whiskers': [<matplotlib.lines.Line2D at 0x7ff8f92c2460>,\n",
       "  <matplotlib.lines.Line2D at 0x7ff8f92c27c0>],\n",
       " 'caps': [<matplotlib.lines.Line2D at 0x7ff8f92c2b20>,\n",
       "  <matplotlib.lines.Line2D at 0x7ff8f92c2e80>],\n",
       " 'boxes': [<matplotlib.lines.Line2D at 0x7ff8f92c2100>],\n",
       " 'medians': [<matplotlib.lines.Line2D at 0x7ff8f92cd220>],\n",
       " 'fliers': [<matplotlib.lines.Line2D at 0x7ff8f92cd580>],\n",
       " 'means': []}"
      ]
     },
     "execution_count": 47,
     "metadata": {},
     "output_type": "execute_result"
    },
    {
     "data": {
      "image/png": "[encoded data removed]",
      "text/plain": [
       "<Figure size 432x288 with 1 Axes>"
      ]
     },
     "metadata": {
      "needs_background": "light"
     },
     "output_type": "display_data"
    }
   ],
   "source": [
    "plt.boxplot(df['Outage_sec_perweek'])"
   ]
  },
  {
   "cell_type": "code",
   "execution_count": 48,
   "metadata": {},
   "outputs": [
    {
     "name": "stdout",
     "output_type": "stream",
     "text": [
      "Outlier Count for Outage_sec_perweek: 534\n"
     ]
    }
   ],
   "source": [
    "## Grabs outliers using 1.5 IQR Rule\n",
    "# https://www.geeksforgeeks.org/finding-the-outlier-points-from-matplotlib/\n",
    "\n",
    "Q1 =  df['Outage_sec_perweek'].quantile(0.25)\n",
    "Q3 = df['Outage_sec_perweek'].quantile(0.75)\n",
    "IQR = Q3 - Q1  #IQR is interquartile range.\n",
    "\n",
    "outlier_count = len(df[(df['Outage_sec_perweek'] < Q1-1.5*IQR ) | (df['Outage_sec_perweek'] > Q3+1.5*IQR)])\n",
    "print('Outlier Count for Outage_sec_perweek: ' + str(outlier_count))\n",
    "\n",
    "# Filters out the outliers and returns the dataframe with the outliers removed\n",
    "# df = df[(df['Contacts'] > Q1-1.5*IQR ) & (df['Contacts'] < Q3+1.5*IQR)]\n",
    "# print('New Total Count: ' + str(len(df)))"
   ]
  },
  {
   "cell_type": "markdown",
   "metadata": {},
   "source": [
    "The count is too high from just using Boxplot for the Outage_sec_perweek varible. Going to attempt to standardize the variable and remove outliers outside of 3 and -3"
   ]
  },
  {
   "cell_type": "code",
   "execution_count": 60,
   "metadata": {},
   "outputs": [
    {
     "name": "stdout",
     "output_type": "stream",
     "text": [
      "Outlier Count for Outage_sec_perweek using ZScore: 29\n",
      "New Total Count: 8906\n"
     ]
    }
   ],
   "source": [
    "df['Outage_sec_perweek_z'] = stats.zscore(df['Outage_sec_perweek'])\n",
    "zscore_outlier_count = len(df.query('Outage_sec_perweek_z > 3 | Outage_sec_perweek_z < -3'))\n",
    "print('Outlier Count for Outage_sec_perweek using ZScore: ' + str(zscore_outlier_count))\n",
    "\n",
    "# Filters out all rows where the standardized income value isn't between 3 and -3\n",
    "df = df.query('Outage_sec_perweek_z < 3 & Outage_sec_perweek_z > -3')\n",
    "print('New Total Count: ' + str(len(df)))"
   ]
  },
  {
   "cell_type": "code",
   "execution_count": 61,
   "metadata": {},
   "outputs": [
    {
     "data": {
      "text/plain": [
       "{'whiskers': [<matplotlib.lines.Line2D at 0x7ff8f91150d0>,\n",
       "  <matplotlib.lines.Line2D at 0x7ff8f91154f0>],\n",
       " 'caps': [<matplotlib.lines.Line2D at 0x7ff8f9122580>,\n",
       "  <matplotlib.lines.Line2D at 0x7ff8f8bfeb20>],\n",
       " 'boxes': [<matplotlib.lines.Line2D at 0x7ff8f85cddf0>],\n",
       " 'medians': [<matplotlib.lines.Line2D at 0x7ff8f8cbbbb0>],\n",
       " 'fliers': [<matplotlib.lines.Line2D at 0x7ff8f82beac0>],\n",
       " 'means': []}"
      ]
     },
     "execution_count": 61,
     "metadata": {},
     "output_type": "execute_result"
    },
    {
     "data": {
      "image/png": "[encoded data removed]",
      "text/plain": [
       "<Figure size 432x288 with 1 Axes>"
      ]
     },
     "metadata": {
      "needs_background": "light"
     },
     "output_type": "display_data"
    }
   ],
   "source": [
    "plt.boxplot(df['Tenure'])"
   ]
  },
  {
   "cell_type": "markdown",
   "metadata": {},
   "source": [
    "No outliers found in **Tenure**, no action taken"
   ]
  },
  {
   "cell_type": "code",
   "execution_count": 50,
   "metadata": {},
   "outputs": [
    {
     "data": {
      "text/plain": [
       "{'whiskers': [<matplotlib.lines.Line2D at 0x7ff8f948b610>,\n",
       "  <matplotlib.lines.Line2D at 0x7ff8f948b970>],\n",
       " 'caps': [<matplotlib.lines.Line2D at 0x7ff8f948bcd0>,\n",
       "  <matplotlib.lines.Line2D at 0x7ff8f9496070>],\n",
       " 'boxes': [<matplotlib.lines.Line2D at 0x7ff8f948b2b0>],\n",
       " 'medians': [<matplotlib.lines.Line2D at 0x7ff8f94963d0>],\n",
       " 'fliers': [<matplotlib.lines.Line2D at 0x7ff8f9496730>],\n",
       " 'means': []}"
      ]
     },
     "execution_count": 50,
     "metadata": {},
     "output_type": "execute_result"
    },
    {
     "data": {
      "image/png": "[encoded data removed]",
      "text/plain": [
       "<Figure size 432x288 with 1 Axes>"
      ]
     },
     "metadata": {
      "needs_background": "light"
     },
     "output_type": "display_data"
    }
   ],
   "source": [
    "plt.boxplot(df['Bandwidth_GB_Year'])"
   ]
  },
  {
   "cell_type": "markdown",
   "metadata": {},
   "source": [
    "No outliers found in **Bandwidth_GB_Year**, no action taken"
   ]
  },
  {
   "cell_type": "markdown",
   "metadata": {},
   "source": [
    "## Applying Principal Component Analysis (PCA) to identify the significant features of the data"
   ]
  },
  {
   "cell_type": "markdown",
   "metadata": {},
   "source": [
    "### 1.  List the principal components in the data set.\n",
    "\n",
    "### 2.  Describe how you identified the principal components of the data set.\n",
    "\n",
    "### 3.  Describe how the organization can benefit from the results of the PCA"
   ]
  },
  {
   "cell_type": "code",
   "execution_count": null,
   "metadata": {},
   "outputs": [],
   "source": []
  }
 ],
 "metadata": {
  "kernelspec": {
   "display_name": "Python 3",
   "language": "python",
   "name": "python3"
  },
  "language_info": {
   "codemirror_mode": {
    "name": "ipython",
    "version": 3
   },
   "file_extension": ".py",
   "mimetype": "text/x-python",
   "name": "python",
   "nbconvert_exporter": "python",
   "pygments_lexer": "ipython3",
   "version": "3.8.5"
  }
 },
 "nbformat": 4,
 "nbformat_minor": 4
}
